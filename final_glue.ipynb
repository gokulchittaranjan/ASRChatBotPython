{
 "cells": [
  {
   "cell_type": "raw",
   "metadata": {
    "deletable": true,
    "editable": true
   },
   "source": [
    "# Final Exercise\n",
    "\n",
    "Use the `chatbot`, `template_matching` and `speech_processing` notebooks to create a voice activated chatbot that answers yes/know questions.\n",
    "\n",
    "Solution:\n",
    "\n",
    "- Use the `Bot` class and the `yes_no_processor` to get a ready made chatbot\n",
    "- Create a new `speech_source` for your `Bot` instance\n",
    "- Use the `AudioManager` from `speech_processing` to record audio\n",
    "- Extract MFCCs for the audio clips corresponding to yes and no\n",
    "- Use the `Trellis` idea from `template_matching` to recognize yes/no "
   ]
  },
  {
   "cell_type": "code",
   "execution_count": 1,
   "metadata": {
    "collapsed": false,
    "deletable": true,
    "editable": true
   },
   "outputs": [
    {
     "name": "stdout",
     "output_type": "stream",
     "text": [
      "importing notebook from chatbot.ipynb\n",
      "importing notebook from template_matching.ipynb\n",
      "importing notebook from speech_processing.ipynb\n"
     ]
    }
   ],
   "source": [
    "from collections import defaultdict\n",
    "\n",
    "import importer\n",
    "from chatbot import StatementProcessor, get_yes_no_processor, get_keyboard_source, Bot\n",
    "from template_matching import Trellis\n",
    "from speech_processing import AudioManager\n",
    "\n",
    "from python_speech_features import mfcc\n",
    "from python_speech_features.base import delta\n",
    "import numpy as np\n",
    "from collections import defaultdict\n",
    "import pickle\n",
    "import os\n"
   ]
  },
  {
   "cell_type": "code",
   "execution_count": null,
   "metadata": {
    "collapsed": false,
    "deletable": true,
    "editable": true
   },
   "outputs": [],
   "source": [
    "if __name__ == \"__main__\":\n",
    "    # Install python_speech_features that contains a routine to extract mfcc\n",
    "    !pip install -U python_speech_features"
   ]
  },
  {
   "cell_type": "code",
   "execution_count": 2,
   "metadata": {
    "collapsed": true,
    "deletable": true,
    "editable": true
   },
   "outputs": [],
   "source": [
    "class TemplateManager:\n",
    "\n",
    "    @staticmethod\n",
    "    def build_templates(words=[\"test\", \"hello\", \"welcome\", \"goodbye\"],\n",
    "                        no_templates=1,\n",
    "                        output_file=\"templates.out\"):\n",
    "\n",
    "        audioManager = AudioManager()\n",
    "\n",
    "        templates = defaultdict(list)\n",
    "\n",
    "        for word in words:\n",
    "            for ii in range(no_templates):\n",
    "                ok = 'n'\n",
    "                while (ok.lower()=='n'):\n",
    "                    print(\"%d/%d Say %s\" %(ii, no_templates, word))\n",
    "                    samples = audioManager.record(2, filter_silence=False)\n",
    "                    audioManager.play(samples)\n",
    "                    features = feature_extractor(samples)\n",
    "                    templates[word].append(features)\n",
    "                    ok = raw_input(\"OK?\")\n",
    "        pickle.dump(templates, open(output_file,\"wb\"))\n",
    "    \n",
    "    @staticmethod\n",
    "    def get_templates(filename):\n",
    "        if os.path.exists(filename):\n",
    "            return pickle.load(open(output_file,\"rb\"))\n",
    "        else:\n",
    "            print(\"Template file not found.\")"
   ]
  },
  {
   "cell_type": "code",
   "execution_count": 3,
   "metadata": {
    "collapsed": false,
    "deletable": true,
    "editable": true
   },
   "outputs": [],
   "source": [
    "def feature_extractor(samples):\n",
    "    samples = np.concatenate(samples)\n",
    "    samples = samples/np.abs(samples).max()\n",
    "    samples = samples - samples.mean()\n",
    "    mfcc_features = mfcc(samples, samplerate=8000, winlen=0.032, winstep=0.016, numcep=13, appendEnergy=True, preemph=0)\n",
    "    #features = np.vstack((mfcc_features, delta(mfcc_features, 1)))\n",
    "    features = mfcc_features\n",
    "    return features\n"
   ]
  },
  {
   "cell_type": "code",
   "execution_count": 42,
   "metadata": {
    "collapsed": true,
    "deletable": true,
    "editable": true
   },
   "outputs": [],
   "source": [
    "def scoring_func(x, y):\n",
    "    #print(x.shape, y.shape)\n",
    "    #print(x, y)\n",
    "    return np.abs(x - y).sum()\n",
    "\n",
    "\n",
    "def get_speech_source(filename):\n",
    "    # Load speech templates\n",
    "    # Return a function that can detect speech\n",
    "    audioManager = AudioManager()\n",
    "    trellis = Trellis(match_weight=1.0, delete_weight=1.0, add_weight=1.0, scoring_func=scoring_func)\n",
    "    \n",
    "    templates_dict = TemplateManager.get_templates(filename)\n",
    "    statement_processor = StatementProcessor()\n",
    "    \n",
    "    def speech_source():\n",
    "        best_scoring_word = \"\"\n",
    "        inp = raw_input(\"Start recording?\")\n",
    "        if len(inp)>0 and inp[0] == \"/\":\n",
    "            return inp\n",
    "        samples = audioManager.record(2, wait_for_kb=False)\n",
    "        features = feature_extractor(samples)\n",
    "        \n",
    "        min_score = 1e9\n",
    "        min_word = \"\"\n",
    "        for word, word_templates in templates_dict.items():\n",
    "            avg_score = 0.0\n",
    "            for word_template in word_templates:\n",
    "                score = trellis.match(word_template, features)\n",
    "                avg_score += score\n",
    "            avg_score = avg_score / float(len(word_templates))\n",
    "            #print(word, avg_score)\n",
    "            if avg_score < min_score:\n",
    "                min_score = avg_score\n",
    "                min_word = word\n",
    "        print(\"YOU>> \", min_word)\n",
    "        return min_word\n",
    "        # Record some audio\n",
    "        # Match the audio with every template using Trellis\n",
    "        # Return the best scoring result \n",
    "        return best_scoring_word\n",
    "    return speech_source"
   ]
  },
  {
   "cell_type": "code",
   "execution_count": 43,
   "metadata": {
    "collapsed": false,
    "deletable": true,
    "editable": true
   },
   "outputs": [],
   "source": [
    "words = [\"yes\", \"no\"]\n",
    "no_templates = 1\n",
    "output_file = \"templates.out\""
   ]
  },
  {
   "cell_type": "code",
   "execution_count": 27,
   "metadata": {
    "collapsed": false,
    "deletable": true,
    "editable": true
   },
   "outputs": [
    {
     "name": "stdout",
     "output_type": "stream",
     "text": [
      "0/1 Say yes\n"
     ]
    },
    {
     "ename": "KeyboardInterrupt",
     "evalue": "",
     "output_type": "error",
     "traceback": [
      "\u001b[0;31m---------------------------------------------------------------------------\u001b[0m",
      "\u001b[0;31mKeyboardInterrupt\u001b[0m                         Traceback (most recent call last)",
      "\u001b[0;32m<ipython-input-27-bc428ed8beb0>\u001b[0m in \u001b[0;36m<module>\u001b[0;34m()\u001b[0m\n\u001b[0;32m----> 1\u001b[0;31m \u001b[0mTemplateManager\u001b[0m\u001b[0;34m.\u001b[0m\u001b[0mbuild_templates\u001b[0m\u001b[0;34m(\u001b[0m\u001b[0mwords\u001b[0m\u001b[0;34m,\u001b[0m \u001b[0mno_templates\u001b[0m\u001b[0;34m,\u001b[0m \u001b[0moutput_file\u001b[0m\u001b[0;34m)\u001b[0m\u001b[0;34m\u001b[0m\u001b[0m\n\u001b[0m",
      "\u001b[0;32m<ipython-input-2-c42c5a6ec2ff>\u001b[0m in \u001b[0;36mbuild_templates\u001b[0;34m(words, no_templates, output_file)\u001b[0m\n\u001b[1;32m     15\u001b[0m                 \u001b[0;32mwhile\u001b[0m \u001b[0;34m(\u001b[0m\u001b[0mok\u001b[0m\u001b[0;34m.\u001b[0m\u001b[0mlower\u001b[0m\u001b[0;34m(\u001b[0m\u001b[0;34m)\u001b[0m\u001b[0;34m==\u001b[0m\u001b[0;34m'n'\u001b[0m\u001b[0;34m)\u001b[0m\u001b[0;34m:\u001b[0m\u001b[0;34m\u001b[0m\u001b[0m\n\u001b[1;32m     16\u001b[0m                     \u001b[0;32mprint\u001b[0m\u001b[0;34m(\u001b[0m\u001b[0;34m\"%d/%d Say %s\"\u001b[0m \u001b[0;34m%\u001b[0m\u001b[0;34m(\u001b[0m\u001b[0mii\u001b[0m\u001b[0;34m,\u001b[0m \u001b[0mno_templates\u001b[0m\u001b[0;34m,\u001b[0m \u001b[0mword\u001b[0m\u001b[0;34m)\u001b[0m\u001b[0;34m)\u001b[0m\u001b[0;34m\u001b[0m\u001b[0m\n\u001b[0;32m---> 17\u001b[0;31m                     \u001b[0msamples\u001b[0m \u001b[0;34m=\u001b[0m \u001b[0maudioManager\u001b[0m\u001b[0;34m.\u001b[0m\u001b[0mrecord\u001b[0m\u001b[0;34m(\u001b[0m\u001b[0;36m2\u001b[0m\u001b[0;34m,\u001b[0m \u001b[0mfilter_silence\u001b[0m\u001b[0;34m=\u001b[0m\u001b[0mFalse\u001b[0m\u001b[0;34m)\u001b[0m\u001b[0;34m\u001b[0m\u001b[0m\n\u001b[0m\u001b[1;32m     18\u001b[0m                     \u001b[0maudioManager\u001b[0m\u001b[0;34m.\u001b[0m\u001b[0mplay\u001b[0m\u001b[0;34m(\u001b[0m\u001b[0msamples\u001b[0m\u001b[0;34m)\u001b[0m\u001b[0;34m\u001b[0m\u001b[0m\n\u001b[1;32m     19\u001b[0m                     \u001b[0mfeatures\u001b[0m \u001b[0;34m=\u001b[0m \u001b[0mfeature_extractor\u001b[0m\u001b[0;34m(\u001b[0m\u001b[0msamples\u001b[0m\u001b[0;34m)\u001b[0m\u001b[0;34m\u001b[0m\u001b[0m\n",
      "\u001b[0;32m/home/nie/workshop/chatbot_speech_workshop/shared/speech_processing.ipynb\u001b[0m in \u001b[0;36mrecord\u001b[0;34m(self, duration, filter_silence, wait_for_kb)\u001b[0m\n",
      "\u001b[0;32m/usr/local/lib/python2.7/dist-packages/ipykernel/kernelbase.pyc\u001b[0m in \u001b[0;36mraw_input\u001b[0;34m(self, prompt)\u001b[0m\n\u001b[1;32m    692\u001b[0m             \u001b[0mself\u001b[0m\u001b[0;34m.\u001b[0m\u001b[0m_parent_ident\u001b[0m\u001b[0;34m,\u001b[0m\u001b[0;34m\u001b[0m\u001b[0m\n\u001b[1;32m    693\u001b[0m             \u001b[0mself\u001b[0m\u001b[0;34m.\u001b[0m\u001b[0m_parent_header\u001b[0m\u001b[0;34m,\u001b[0m\u001b[0;34m\u001b[0m\u001b[0m\n\u001b[0;32m--> 694\u001b[0;31m             \u001b[0mpassword\u001b[0m\u001b[0;34m=\u001b[0m\u001b[0mFalse\u001b[0m\u001b[0;34m,\u001b[0m\u001b[0;34m\u001b[0m\u001b[0m\n\u001b[0m\u001b[1;32m    695\u001b[0m         )\n\u001b[1;32m    696\u001b[0m \u001b[0;34m\u001b[0m\u001b[0m\n",
      "\u001b[0;32m/usr/local/lib/python2.7/dist-packages/ipykernel/kernelbase.pyc\u001b[0m in \u001b[0;36m_input_request\u001b[0;34m(self, prompt, ident, parent, password)\u001b[0m\n\u001b[1;32m    722\u001b[0m             \u001b[0;32mexcept\u001b[0m \u001b[0mKeyboardInterrupt\u001b[0m\u001b[0;34m:\u001b[0m\u001b[0;34m\u001b[0m\u001b[0m\n\u001b[1;32m    723\u001b[0m                 \u001b[0;31m# re-raise KeyboardInterrupt, to truncate traceback\u001b[0m\u001b[0;34m\u001b[0m\u001b[0;34m\u001b[0m\u001b[0m\n\u001b[0;32m--> 724\u001b[0;31m                 \u001b[0;32mraise\u001b[0m \u001b[0mKeyboardInterrupt\u001b[0m\u001b[0;34m\u001b[0m\u001b[0m\n\u001b[0m\u001b[1;32m    725\u001b[0m             \u001b[0;32melse\u001b[0m\u001b[0;34m:\u001b[0m\u001b[0;34m\u001b[0m\u001b[0m\n\u001b[1;32m    726\u001b[0m                 \u001b[0;32mbreak\u001b[0m\u001b[0;34m\u001b[0m\u001b[0m\n",
      "\u001b[0;31mKeyboardInterrupt\u001b[0m: "
     ]
    }
   ],
   "source": [
    "TemplateManager.build_templates(words, no_templates, output_file)"
   ]
  },
  {
   "cell_type": "code",
   "execution_count": 44,
   "metadata": {
    "collapsed": false,
    "deletable": true,
    "editable": true
   },
   "outputs": [
    {
     "name": "stdout",
     "output_type": "stream",
     "text": [
      "Start recording?\n",
      "* recording\n",
      "* done recording\n",
      "('before', 124)\n",
      "('after', 124)\n",
      "('YOU>> ', 'yes')\n",
      "('[', 0, ']', 'Poincare', '>> ', 'Is New Delhi the capital of India?')\n",
      "('[', 0, ']', 'Poincare', '>> ', 'Give the right answer.')\n",
      "Start recording?/quit\n",
      "('[', 1, ']', 'Poincare', '>> ', 'Goodbye!')\n"
     ]
    }
   ],
   "source": [
    "chatbot = Bot(statement_processor=StatementProcessor(statement_logic=get_yes_no_processor()),\n",
    "             input_source=get_speech_source(output_file))\n",
    "chatbot.start_bot()\n",
    "#speech_source = get_speech_source(output_file)\n",
    "#speech_source()"
   ]
  },
  {
   "cell_type": "code",
   "execution_count": null,
   "metadata": {
    "collapsed": true,
    "deletable": true,
    "editable": true
   },
   "outputs": [],
   "source": []
  }
 ],
 "metadata": {
  "kernelspec": {
   "display_name": "Python 2",
   "language": "python",
   "name": "python2"
  },
  "language_info": {
   "codemirror_mode": {
    "name": "ipython",
    "version": 2
   },
   "file_extension": ".py",
   "mimetype": "text/x-python",
   "name": "python",
   "nbconvert_exporter": "python",
   "pygments_lexer": "ipython2",
   "version": "2.7.3"
  }
 },
 "nbformat": 4,
 "nbformat_minor": 1
}
