{
 "cells": [
  {
   "cell_type": "markdown",
   "metadata": {},
   "source": [
    "# Final Exercise\n",
    "\n",
    "Use the `chatbot`, `template_matching` and `speech_processing` notebooks to create a voice activated chatbot that answers yes/know questions.\n",
    "\n",
    "Solution:\n",
    "\n",
    "- Use the `Bot` class and the `yes_no_processor` to get a ready made chatbot\n",
    "- Create a new `speech_source` for your `Bot` instance\n",
    "- Use the `AudioManager` from `speech_processing` to record audio\n",
    "- Extract MFCCs for the audio clips corresponding to yes and no\n",
    "- Use the `Trellis` idea from `template_matching` to recognize yes/no "
   ]
  },
  {
   "cell_type": "code",
   "execution_count": 14,
   "metadata": {
    "collapsed": false
   },
   "outputs": [],
   "source": [
    "from collections import defaultdict\n",
    "\n",
    "import importer\n",
    "from chatbot import StatementProcessor, get_yes_no_processor, get_keyboard_source, Bot\n",
    "from template_matching import Trellis\n",
    "from speech_processing import AudioManager\n",
    "\n",
    "from python_speech_features import mfcc\n",
    "from python_speech_features.base import delta\n",
    "import numpy as np"
   ]
  },
  {
   "cell_type": "code",
   "execution_count": 11,
   "metadata": {
    "collapsed": false
   },
   "outputs": [
    {
     "name": "stdout",
     "output_type": "stream",
     "text": [
      "Collecting python_speech_features\n",
      "Installing collected packages: python-speech-features\n",
      "Successfully installed python-speech-features-0.5\n",
      "\u001b[33mYou are using pip version 8.1.1, however version 9.0.1 is available.\n",
      "You should consider upgrading via the 'pip install --upgrade pip' command.\u001b[0m\n"
     ]
    }
   ],
   "source": [
    "# Install python_speech_features that contains a routine to extract mfcc\n",
    "!pip3 install -U python_speech_features"
   ]
  },
  {
   "cell_type": "code",
   "execution_count": 302,
   "metadata": {
    "collapsed": false
   },
   "outputs": [
    {
     "name": "stdout",
     "output_type": "stream",
     "text": [
      "Please stay quiet. Measuring ambient noise...\n",
      "* recording\n",
      "* done recording\n"
     ]
    }
   ],
   "source": [
    "# Creating templates\n",
    "\n",
    "samples_per_word = 8\n",
    "words = [\"one\", \"five\"]\n",
    "\n",
    "audioManager = AudioManager(chunk=128, rate=8000)\n",
    "audioManager.build_silence_model(duration=5, factor=1.1)"
   ]
  },
  {
   "cell_type": "code",
   "execution_count": 303,
   "metadata": {
    "collapsed": false
   },
   "outputs": [
    {
     "name": "stdout",
     "output_type": "stream",
     "text": [
      "( 1 / 8 ) Say one\n",
      "Press Enter to start recording...\n",
      "* recording\n",
      "* done recording\n",
      "before 123\n",
      "after 114\n",
      "Is this ok?y\n",
      "( 2 / 8 ) Say one\n",
      "Press Enter to start recording...\n",
      "* recording\n",
      "* done recording\n",
      "before 125\n",
      "after 112\n",
      "Is this ok?y\n",
      "( 3 / 8 ) Say one\n",
      "Press Enter to start recording...\n",
      "* recording\n",
      "* done recording\n",
      "before 115\n",
      "after 102\n",
      "Is this ok?y\n",
      "( 4 / 8 ) Say one\n",
      "Press Enter to start recording...\n",
      "* recording\n",
      "* done recording\n",
      "before 124\n",
      "after 109\n",
      "Is this ok?y\n",
      "( 5 / 8 ) Say one\n",
      "Press Enter to start recording...\n",
      "* recording\n",
      "* done recording\n",
      "before 120\n",
      "after 113\n",
      "Is this ok?\n",
      "Press Enter to start recording...\n",
      "* recording\n",
      "* done recording\n",
      "before 119\n",
      "after 113\n",
      "Is this ok?y\n",
      "( 6 / 8 ) Say one\n",
      "Press Enter to start recording...\n",
      "* recording\n",
      "* done recording\n",
      "before 113\n",
      "after 107\n",
      "Is this ok?y\n",
      "( 7 / 8 ) Say one\n",
      "Press Enter to start recording...\n",
      "* recording\n",
      "* done recording\n",
      "before 100\n",
      "after 93\n",
      "Is this ok?y\n",
      "( 8 / 8 ) Say one\n",
      "Press Enter to start recording...\n",
      "* recording\n",
      "* done recording\n",
      "before 122\n",
      "after 121\n",
      "Is this ok?y\n",
      "( 1 / 8 ) Say five\n",
      "Press Enter to start recording...\n",
      "* recording\n",
      "* done recording\n",
      "before 120\n",
      "after 118\n",
      "Is this ok?y\n",
      "( 2 / 8 ) Say five\n",
      "Press Enter to start recording...\n",
      "* recording\n",
      "* done recording\n",
      "before 122\n",
      "after 117\n",
      "Is this ok?y\n",
      "( 3 / 8 ) Say five\n",
      "Press Enter to start recording...\n",
      "* recording\n",
      "* done recording\n",
      "before 121\n",
      "after 118\n",
      "Is this ok?y\n",
      "( 4 / 8 ) Say five\n",
      "Press Enter to start recording...\n",
      "* recording\n",
      "* done recording\n",
      "before 124\n",
      "after 113\n",
      "Is this ok?y\n",
      "( 5 / 8 ) Say five\n",
      "Press Enter to start recording...\n",
      "* recording\n",
      "* done recording\n",
      "before 120\n",
      "after 118\n",
      "Is this ok?y\n",
      "( 6 / 8 ) Say five\n",
      "Press Enter to start recording...\n",
      "* recording\n",
      "* done recording\n",
      "before 125\n",
      "after 116\n",
      "Is this ok?y\n",
      "( 7 / 8 ) Say five\n",
      "Press Enter to start recording...\n",
      "* recording\n",
      "* done recording\n",
      "before 121\n",
      "after 112\n",
      "Is this ok?y\n",
      "( 8 / 8 ) Say five\n",
      "Press Enter to start recording...\n",
      "* recording\n",
      "* done recording\n",
      "before 108\n",
      "after 108\n",
      "Is this ok?y\n"
     ]
    }
   ],
   "source": [
    "def feature_extractor(samples):\n",
    "    samples = np.concatenate(samples)\n",
    "    samples = samples/np.abs(samples).max()\n",
    "    samples = samples - samples.mean()\n",
    "    mfcc_features = mfcc(samples, samplerate=8000, winlen=0.032, winstep=0.016, numcep=13, appendEnergy=True, preemph=0)\n",
    "    #features = np.vstack((mfcc_features, delta(mfcc_features, 1)))\n",
    "    features = mfcc_features\n",
    "    return features\n",
    "\n",
    "templates = dict.fromkeys(words)\n",
    "for k, v in templates.items():\n",
    "    templates[k] = []\n",
    "\n",
    "for word in words:\n",
    "    for ii in range(samples_per_word):\n",
    "        print(\"(\", (ii+1), \"/\", samples_per_word, \") Say\", word)\n",
    "        ok = False\n",
    "        while not ok:\n",
    "            samples = audioManager.record(2, filter_silence=True)\n",
    "            audioManager.play(samples)\n",
    "            ok = input(\"Is this ok?\").lower()\n",
    "            if ok == \"yes\" or ok==\"y\":\n",
    "                ok = True\n",
    "            else:\n",
    "                ok = False\n",
    "        features = feature_extractor(samples)\n",
    "        templates[word].append(features)"
   ]
  },
  {
   "cell_type": "code",
   "execution_count": 345,
   "metadata": {
    "collapsed": true
   },
   "outputs": [],
   "source": [
    "def scoring_func(x, y):\n",
    "    #print(x.shape, y.shape)\n",
    "    return np.abs(x - y).sum()\n",
    "\n",
    "def do_word_detection(audioManager, templates):\n",
    "    trellis = Trellis(match_weight=1.0, delete_weight=1.0, add_weight=1.0, scoring_func=scoring_func)\n",
    "    samples = audioManager.record(2, filter_silence=True, wait_for_kb=True)\n",
    "    test_features = feature_extractor(samples)\n",
    "    lowest_word = None\n",
    "    lowest_score = 1e9\n",
    "    for word, template_features in templates.items():\n",
    "        word_score = 1e9\n",
    "        for template in template_features:\n",
    "            score, _ = trellis.match(template, test_features, normalize_score=True)\n",
    "            #if score < word_score:\n",
    "            #    word_score = score\n",
    "            word_score += score\n",
    "        word_score = word_score / len(template_features)\n",
    "        if score < lowest_score:\n",
    "            lowest_word = word\n",
    "            lowest_score = score\n",
    "        print(word, score)\n",
    "    print(\"Detected\", lowest_word)"
   ]
  },
  {
   "cell_type": "code",
   "execution_count": 361,
   "metadata": {
    "collapsed": false
   },
   "outputs": [
    {
     "name": "stdout",
     "output_type": "stream",
     "text": [
      "Press Enter to start recording...\n",
      "* recording\n",
      "* done recording\n",
      "before 119\n",
      "after 117\n",
      "five 63.5607267903\n",
      "one 94.1193006599\n",
      "Detected five\n"
     ]
    }
   ],
   "source": [
    "do_word_detection(audioManager, templates)\n",
    "#templates[\"yes\"][0]"
   ]
  },
  {
   "cell_type": "code",
   "execution_count": null,
   "metadata": {
    "collapsed": true
   },
   "outputs": [],
   "source": []
  }
 ],
 "metadata": {
  "kernelspec": {
   "display_name": "Python 3",
   "language": "python",
   "name": "python3"
  },
  "language_info": {
   "codemirror_mode": {
    "name": "ipython",
    "version": 3
   },
   "file_extension": ".py",
   "mimetype": "text/x-python",
   "name": "python",
   "nbconvert_exporter": "python",
   "pygments_lexer": "ipython3",
   "version": "3.5.2"
  }
 },
 "nbformat": 4,
 "nbformat_minor": 1
}
