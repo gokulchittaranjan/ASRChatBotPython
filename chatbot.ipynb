{
 "cells": [
  {
   "cell_type": "markdown",
   "metadata": {
    "deletable": true,
    "editable": true
   },
   "source": [
    "Exercise 1\n",
    "---\n",
    "\n",
    "**Chatbot dialog management**\n",
    "\n",
    "Your job is to create a chatbot... As a first step, you will have to define the chatbot's framework.\n",
    "\n",
    "In this exercise, you will have to write the necessary code to:\n",
    "1. Read input from a user, as a chatbot would and display a simple response for an input. This should look like a conversation happening on a messenger.\n",
    "2. Maintain dialogue state: which is the past \"N\" inputs from the user to the bot and the bot's responses\n",
    "3. A few housekeeping commands for the bot:\n",
    "    - Clear the context (/clearcontext)\n",
    "    - Print out the context (/printcontext)\n",
    "    - Configure the size of the context (/resizecontext N)\n",
    "    - Quit the conversation (/quit)"
   ]
  },
  {
   "cell_type": "code",
   "execution_count": 4,
   "metadata": {
    "collapsed": false,
    "deletable": true,
    "editable": true
   },
   "outputs": [],
   "source": [
    "from collections import deque\n",
    "\n",
    "def process_statement_basic(x):\n",
    "    if x[0] == \"/\":\n",
    "        cont, response = process_command(x[1:])\n",
    "    else:\n",
    "        response = [\"OK.\"]\n",
    "        cont = True\n",
    "    return cont, response\n",
    "\n",
    "\n",
    "def process_command(x):\n",
    "    parts = x.split()\n",
    "    cmd = parts[0]\n",
    "    args = parts[1:]\n",
    "    \n",
    "    \n",
    "    global context\n",
    "    if cmd == \"quit\":\n",
    "        return False, [\"Goodbye!\"]\n",
    "    elif cmd == \"clearcontext\":\n",
    "        context.clear()\n",
    "        return True, [\"Cleared context.\"]\n",
    "    elif cmd == \"printcontext\":\n",
    "        response = context.get()\n",
    "        response.append(\"Context length: %d\" % (len(context)))\n",
    "        return True, response\n",
    "    elif cmd == \"resizecontext\":\n",
    "        if len(args) == 1:\n",
    "            \n",
    "            try:\n",
    "                context.resize(int(args[0]))\n",
    "                return True, [\"Resized context to %s\" % (args[0])]\n",
    "            except TypeError:\n",
    "                return True, [\"Context size should be int\"]\n",
    "        else:\n",
    "            return True, [\"resizecontext requires new size (int)\"]\n",
    "    else:\n",
    "        return True, [\"Invalid Command\"]\n",
    "\n",
    "class Context:\n",
    "    \n",
    "    def __init__(self, N):\n",
    "        self.N = N\n",
    "        self.context = None\n",
    "        self.init()\n",
    "    \n",
    "    def __len__(self):\n",
    "        return self.N\n",
    "    \n",
    "    def init(self):\n",
    "        if self.context is None:\n",
    "            self.context = deque(list(), self.N)\n",
    "        else:\n",
    "            self.context = deque(list(self.context), self.N)\n",
    "        \n",
    "    def add(self, x, response, cont, **kwargs):\n",
    "        self.context.append({\"x\": x, \"response\": response, \"cont\": cont, 'tags': kwargs})\n",
    "        \n",
    "    def clear(self):\n",
    "        self.context = None\n",
    "        self.init()\n",
    "    \n",
    "    def resize(self, N):\n",
    "        self.N = N\n",
    "        self.init()\n",
    "\n",
    "    def get(self):\n",
    "        return list(self.context)\n",
    "        \n",
    "context = None\n",
    "\n",
    "def start_chatbot(N = 10, name = 'Poincare'):\n",
    "    global context\n",
    "    context = Context(N)\n",
    "    \n",
    "    cont = True\n",
    "    chat_cnt = 0\n",
    "    \n",
    "    while cont:\n",
    "        x = input(\"You>> \")\n",
    "        cont, response = process_statement_basic(x)\n",
    "        for r in response:\n",
    "            print(\"[\", chat_cnt, \"]\", name, \">> \", r)\n",
    "        context.add(x, response ,cont)\n",
    "        chat_cnt += 1"
   ]
  },
  {
   "cell_type": "code",
   "execution_count": 82,
   "metadata": {
    "collapsed": false,
    "deletable": true,
    "editable": true
   },
   "outputs": [
    {
     "name": "stdout",
     "output_type": "stream",
     "text": [
      "You>> hi\n",
      "[ 0 ] Poincare >>  OK.\n",
      "You>> hello\n",
      "[ 1 ] Poincare >>  OK.\n",
      "You>> /resizecontext 2\n",
      "[ 2 ] Poincare >>  Resized context to 2\n",
      "You>> /printcontext\n",
      "[ 3 ] Poincare >>  {'x': 'hello', 'tags': {}, 'cont': True, 'response': ['OK.']}\n",
      "[ 3 ] Poincare >>  {'x': '/resizecontext 2', 'tags': {}, 'cont': True, 'response': ['Resized context to 2']}\n",
      "[ 3 ] Poincare >>  Context length: 2\n",
      "You>> /quit\n",
      "[ 4 ] Poincare >>  Goodbye!\n"
     ]
    }
   ],
   "source": [
    "if __name__==\"__main__\":\n",
    "    # Start the bot...  \n",
    "    start_chatbot()"
   ]
  },
  {
   "cell_type": "markdown",
   "metadata": {
    "deletable": true,
    "editable": true
   },
   "source": [
    "Exercise 2\n",
    "---\n",
    "\n",
    "**Adding basic intelligence to the chatbot**\n",
    "\n",
    "Now that the dialogue is managed, let's add a few basic capabilities to the bot.\n",
    "\n",
    "Poincare should now act as your calculator (with support for free form text). In other words, it should support the following operations:\n",
    "\n",
    "1. Add, subtract, multiple, and divide two numbers and store it in the context (e.g. add 30 and 20; add the numbers 1000, 200, 3000; 30 + 50, 50 / 10, 5 times 20, and so on...)\n",
    "2. Add the ability to manipulate/add-on to the result from the context (e.g. subtract 25 from the previous result)\n",
    "\n",
    "**BONUS**\n",
    "\n",
    "1. Build support for free-form dates (e.g. 2PM on Thursday, 5AM next Saturday, first sunday of next month, etc.); convert these strings to a Python \"datetime\" object"
   ]
  },
  {
   "cell_type": "code",
   "execution_count": 2,
   "metadata": {
    "collapsed": true,
    "deletable": true,
    "editable": true
   },
   "outputs": [],
   "source": [
    "# This is left as an exercise..."
   ]
  },
  {
   "cell_type": "markdown",
   "metadata": {
    "deletable": true,
    "editable": true
   },
   "source": [
    "Exercise 3\n",
    "---\n",
    "\n",
    "* Re-formulate the chatbot to ask a list of Yes/No questions that is procured from a file.\n",
    "* State if the user's answer is correct or wrong.\n",
    "* Make the source of input to the bot configurable. For now, it will come from the keyboard. Soon, we'll use our voice."
   ]
  },
  {
   "cell_type": "code",
   "execution_count": 8,
   "metadata": {
    "collapsed": false,
    "deletable": true,
    "editable": true
   },
   "outputs": [],
   "source": [
    "from collections import deque\n",
    "from random import choice\n",
    "\n",
    "class StatementProcessor:\n",
    "    \n",
    "    def __init__(self, N=10, statement_logic=lambda context, x: (True, [\"OK\"])):\n",
    "            self.context = Context(N)\n",
    "            self.statement_logic = statement_logic\n",
    "    \n",
    "    def process_statement(self, x):\n",
    "        context = self.context\n",
    "        if x[0] == \"/\":\n",
    "            cont, response = self.process_command(x[1:])\n",
    "        else:\n",
    "            cont, response = self.statement_logic(context, x)\n",
    "        return cont, response\n",
    "\n",
    "    def process_command(self, x):\n",
    "        context = self.context\n",
    "        parts = x.split()\n",
    "        cmd = parts[0]\n",
    "        args = parts[1:]\n",
    "        \n",
    "        cont = False\n",
    "        response = []\n",
    "        \n",
    "        if cmd == \"quit\":\n",
    "            cont = False\n",
    "            response = [\"Goodbye!\"]\n",
    "        elif cmd == \"clearcontext\":\n",
    "            context.clear()\n",
    "            cont = True\n",
    "            response = [\"Cleared context.\"]\n",
    "        elif cmd == \"printcontext\":\n",
    "            response = context.get()\n",
    "            response.append(\"Context length: %d\" % (len(context)))\n",
    "            cont = True\n",
    "        elif cmd == \"resizecontext\":\n",
    "            if len(args) == 1:\n",
    "                try:\n",
    "                    context.resize(int(args[0]))\n",
    "                    cont = True\n",
    "                    response = [\"Resized context to %s\" % (args[0])]\n",
    "                except TypeError:\n",
    "                    cont = True\n",
    "                    response = [\"Context size should be int\"]\n",
    "            else:\n",
    "                cont = True\n",
    "                response = [\"resizecontext requires new size (int)\"]\n",
    "        else:\n",
    "            cont = True\n",
    "            response = [\"Invalid Command\"]\n",
    "        context.add(x, response ,cont)\n",
    "        return cont, response\n",
    "\n",
    "    \n",
    "def get_yes_no_processor(filename=\"binary_questions.txt\"):\n",
    "        qas = [v.split(\"#<>#\") for v in filter(None, open(filename).read().split(\"\\n\"))]\n",
    "        def statement_logic(context, x):\n",
    "            prev_context = context.get()\n",
    "            response = [\"OK.\"]\n",
    "            cont = True\n",
    "            if len(prev_context)>0:\n",
    "                prev_context = prev_context[-1]\n",
    "            else:\n",
    "                prev_context = {}\n",
    "            #print(prev_context)\n",
    "            if \"tags\" in prev_context and \"question\" in prev_context[\"tags\"] and \"qtype\" in prev_context[\"tags\"][\"question\"] and prev_context[\"tags\"][\"question\"][\"qtype\"] == \"binary\":\n",
    "                if prev_context[\"tags\"][\"question\"][\"expected_response\"] == x:\n",
    "                    response = [\"Correct.\"]\n",
    "                else:\n",
    "                    response = [\"Wrong.\",\"Right answer is %s\" %(prev_context[\"tags\"][\"question\"][\"expected_response\"])]\n",
    "                context.add(x, cont, response)\n",
    "            else:\n",
    "                qa_current = choice(qas)\n",
    "                response = [qa_current[0]]\n",
    "                response.append(\"Give the right answer.\")\n",
    "                context.add(x, cont, response, question={\"expected_response\": qa_current[1], \"qtype\": \"binary\"})\n",
    "            return cont, response\n",
    "        return statement_logic\n",
    "\n",
    "\n",
    "def get_keyboard_source():\n",
    "    def read_keyboard():\n",
    "        #return raw_input(\"You>> \") # Python2\n",
    "        return input(\"You>> \")\n",
    "    return read_keyboard\n",
    "    \n",
    "class Bot:\n",
    "    def __init__(self, name='Poincare', statement_processor=StatementProcessor(), input_source=get_keyboard_source()):\n",
    "        self.name = name\n",
    "        self.statement_processor = statement_processor\n",
    "        self.input_source = input_source\n",
    "\n",
    "    def start_bot(self):\n",
    "        cont = True\n",
    "        chat_cnt = 0\n",
    "\n",
    "        while cont:\n",
    "            x = self.input_source()\n",
    "            cont, response = self.statement_processor.process_statement(x)\n",
    "            for r in response:\n",
    "                print(\"[\", chat_cnt, \"]\", self.name, \">> \", r)\n",
    "            chat_cnt += 1"
   ]
  },
  {
   "cell_type": "code",
   "execution_count": 9,
   "metadata": {
    "collapsed": false,
    "deletable": true,
    "editable": true
   },
   "outputs": [
    {
     "name": "stdout",
     "output_type": "stream",
     "text": [
      "You>> Hi\n",
      "[ 0 ] Poincare >>  Is it cold outside?\n",
      "[ 0 ] Poincare >>  Give the right answer.\n",
      "You>> no\n",
      "[ 1 ] Poincare >>  Correct.\n",
      "You>> /quit\n",
      "[ 2 ] Poincare >>  Goodbye!\n"
     ]
    }
   ],
   "source": [
    "if __name__==\"__main__\":\n",
    "    bot = Bot(statement_processor=StatementProcessor(statement_logic=get_yes_no_processor()))\n",
    "    bot.start_bot()"
   ]
  },
  {
   "cell_type": "code",
   "execution_count": null,
   "metadata": {
    "collapsed": true
   },
   "outputs": [],
   "source": []
  }
 ],
 "metadata": {
  "kernelspec": {
   "display_name": "Python 3",
   "language": "python",
   "name": "python3"
  },
  "language_info": {
   "codemirror_mode": {
    "name": "ipython",
    "version": 3
   },
   "file_extension": ".py",
   "mimetype": "text/x-python",
   "name": "python",
   "nbconvert_exporter": "python",
   "pygments_lexer": "ipython3",
   "version": "3.5.2"
  }
 },
 "nbformat": 4,
 "nbformat_minor": 1
}
