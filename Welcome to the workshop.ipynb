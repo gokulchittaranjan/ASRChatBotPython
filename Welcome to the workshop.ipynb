{
 "cells": [
  {
   "cell_type": "markdown",
   "metadata": {
    "slideshow": {
     "slide_type": "slide"
    }
   },
   "source": [
    "# Welcome!\n",
    "\n",
    "\n",
    "### Did you know?\n",
    "#### these slides are created in Python!\n",
    "\n",
    "---\n",
    "\n",
    "you'll see more awesomeness when you write your own bot and speech recognizer...!\n",
    "\n",
    "Stay tuned..."
   ]
  },
  {
   "cell_type": "markdown",
   "metadata": {
    "slideshow": {
     "slide_type": "slide"
    }
   },
   "source": [
    "# Welcome!\n",
    "\n",
    "I'm Gokul.\n",
    "\n",
    "I run **QuaintScience** - a consulting gig that focuses exclusively on data science (i.e. machine learning, AI, statistics, etc.) and associated software engineering. \n",
    "\n",
    "We are a 2 year old startup; based out of Mysore.\n",
    "\n",
    "Visit us at http://quaintscience.com\n",
    "\n",
    "Or say hello@quaintscience.com"
   ]
  },
  {
   "cell_type": "markdown",
   "metadata": {
    "slideshow": {
     "slide_type": "slide"
    }
   },
   "source": [
    "## What we'll cover:\n",
    "\n",
    "1. Python3\n",
    "2. Building a chatbot\n",
    "3. Building a speech recognizer (from scratch!!) for the chatbot\n",
    "\n",
    "If you do your job right -- you would have built what most startups are \"hyping\" about! :)\n",
    "\n",
    "You are to work in groups of **two** (Individual participation in assignment/projects discouraged)"
   ]
  },
  {
   "cell_type": "markdown",
   "metadata": {
    "slideshow": {
     "slide_type": "slide"
    }
   },
   "source": [
    "## Pre-requisites\n",
    "\n",
    "1. Introductory programming course -- C/C++?\n",
    "2. Endurance to program for these two days"
   ]
  },
  {
   "cell_type": "markdown",
   "metadata": {
    "slideshow": {
     "slide_type": "slide"
    }
   },
   "source": [
    "## Schedule\n",
    "\n",
    "### Day-1\n",
    "\n",
    "\n",
    "| Session | Duration | Title                                                    | Time              |\n",
    "| ------- | -------- | ---------------------------------------------------------|-------------------|\n",
    "|    1    | 30 mins  | Intro to Python                                          | 11.00AM - 11.30AM |\n",
    "|    1    | 1 hour   | Data Types; inbuilt-tools                                | 11.30AM - 12.30PM |\n",
    "|    -    | 30 mins  | Break                                                    | 12.30AM - 01.00PM |\n",
    "|    2    | 30 mins  | Recap + More python stuff                                | 01.00PM - 01.30PM |\n",
    "|    2    | 30 mins  | Template Matching: DP Problem                            | 01.30PM - 02.00PM |\n",
    "|    -    | 10 mins  | Break                                                    | 02.00PM - 02.10PM |\n",
    "|    3    | 1.5 hour | Exercise-1: template matching program                    | 02.10PM - 03.40PM |\n",
    "|    -    | 10 mins  | Break                                                    | 03.40PM - 03.50PM |\n",
    "|    3    | 1.5 hour | Exercise-2: bot implementation                           | 03.50PM - 05.20PM |\n",
    "|    3    | 1 hour   | Exercise-3: fine-tuning bot for speech input             | 05.20PM - 06.20PM |\n",
    "\n",
    "You will receive take-home material, so that you can have a headstart the next day."
   ]
  },
  {
   "cell_type": "markdown",
   "metadata": {
    "slideshow": {
     "slide_type": "subslide"
    }
   },
   "source": [
    "## Schedule\n",
    "\n",
    "### Day-2\n",
    "\n",
    "\n",
    "| Session | Duration | Title                                                    | Time              |\n",
    "| ------- | -------- | ---------------------------------------------------------|-------------------|\n",
    "|    4    | 30 mins  | Recap + QA                                               | 08.30AM - 09.00AM |\n",
    "|    4    | 1 hour   | Basics of Automatic Speech Recognition (ASR)             | 09.00AM - 10.00AM |\n",
    "|    -    | 10 mins  | Break                                                    | 10.00AM - 10.10AM |\n",
    "|    5    | 30 mins  | Feature Extraction                                       | 10.10AM - 10.40AM |\n",
    "|    5    | 30 mins  | Template matching for ASR                                | 10.40AM - 11.10AM |\n",
    "|    5    | 20 mins  | State-of-art and Future Directions                       | 11.10PM - 12.30PM |\n",
    "|    -    | 30 mins  | Break                                                    | 12.30PM - 01.00PM |\n",
    "|    6    | 15 mins  | Re-visiting Exercise-1                                   | 01.00PM - 01.45PM |\n",
    "|    6    | 15 mins  | Re-visiting Exercise-3                                   | 01.45PM - 02.00PM |\n",
    "|    6    | 4 hours  | Exercise-4: integrating an ASR with the bot              | 02.00PM - 06.00PM |\n",
    "|    -    | 15 mins  | Break                                                    | 06.00PM - 06.15PM |\n",
    "|    7    | 30 mins  | Participant Demos                                        | 06.15PM - 06.45PM |\n",
    "|    7    | 15 mins  | Debrief and feedback                                     | 06.15PM - 07.00PM |\n"
   ]
  }
 ],
 "metadata": {
  "celltoolbar": "Slideshow",
  "kernelspec": {
   "display_name": "Python 3",
   "language": "python",
   "name": "python3"
  },
  "language_info": {
   "codemirror_mode": {
    "name": "ipython",
    "version": 3
   },
   "file_extension": ".py",
   "mimetype": "text/x-python",
   "name": "python",
   "nbconvert_exporter": "python",
   "pygments_lexer": "ipython3",
   "version": "3.5.2"
  }
 },
 "nbformat": 4,
 "nbformat_minor": 1
}
