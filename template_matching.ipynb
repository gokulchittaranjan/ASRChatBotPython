{
 "cells": [
  {
   "cell_type": "markdown",
   "metadata": {},
   "source": [
    "Exercise-1\n",
    "---\n",
    "\n",
    "Create a class Trellis that\n",
    "- takes in four arguments: `match_weight`, `delete_weight`, `add_weight`, and `scoring_func`.\n",
    "    - `scoring_func` is a function that computes the distance or score between two `values`.\n",
    "    - `match_weight`, `delete_weight`, `add_weight` are floats that weigh a diagonal, horizontal, and vertical transitions, respectively.\n",
    "- contains a method `match(X, Y)` where X and Y are arrays of `values`; the `values` can be characters, scalars, or even vectors that returns the minimum-edit-distance/matching-score between X and Y and the shortest path (as an array of 2-tuples)."
   ]
  },
  {
   "cell_type": "code",
   "execution_count": 56,
   "metadata": {
    "collapsed": false
   },
   "outputs": [
    {
     "name": "stdout",
     "output_type": "stream",
     "text": [
      "['TEST', 'TES'] 0.6666666666666666\n",
      "['geek', 'gesek'] 0.6\n",
      "['ISLANDER', 'SLANDER'] 0.14285714285714285\n",
      "['MART', 'KARMA'] 1.0\n"
     ]
    }
   ],
   "source": [
    "class Trellis:\n",
    "    \n",
    "    def __init__(self, scoring_func, match_weight=1.0, delete_weight=2.0, add_weight=2.0):\n",
    "        self.scoring_func = scoring_func\n",
    "        self.match_weight = match_weight\n",
    "        self.delete_weight = delete_weight\n",
    "        self.add_weight = add_weight\n",
    "    \n",
    "    def match(self, X, Y, normalize_score=True):\n",
    "        scoring_func = self.scoring_func\n",
    "        match_weight, delete_weight, add_weight = self.match_weight, self.delete_weight, self.add_weight\n",
    "    \n",
    "        score = 0\n",
    "        back_pointer = []\n",
    "        path_length = 0\n",
    "        back_pointer_desc = []\n",
    "        \n",
    "        ii = jj = 0\n",
    "        while ii < len(X) and jj < len(Y):\n",
    "            if ii == jj and ii == 0:\n",
    "                score += scoring_func(X[ii], Y[ii])\n",
    "                back_pointer.append((ii, jj))\n",
    "            match_score = delete_score = add_score = 1e9\n",
    "            if ii + 1 < len(X):\n",
    "                if jj + 1 < len(Y):\n",
    "                    match_score = match_weight*scoring_func(X[ii+1], Y[jj+1])\n",
    "                delete_score = delete_weight*scoring_func(X[ii+1], Y[jj])                \n",
    "            if jj + 1 < len(Y):\n",
    "                add_score = add_weight*scoring_func(X[ii], Y[jj+1])\n",
    "            min_score = min(match_score, delete_score, add_score)\n",
    "            if min_score == 1e9:\n",
    "                break\n",
    "            if match_score == min_score:\n",
    "                ii += 1\n",
    "                jj += 1\n",
    "            elif delete_score == min_score:\n",
    "                ii += 1                \n",
    "            elif add_score == min_score:\n",
    "                jj += 1\n",
    "            score += min_score\n",
    "            path_length += 1\n",
    "            back_pointer.append((ii, jj))\n",
    "\n",
    "        if ii == len(X) - 1 and jj < len(Y) - 1:\n",
    "            while jj < len(Y):\n",
    "                jj += 1\n",
    "                score += add_weight*scoring_func(X[ii], Y[jj])\n",
    "                path_length += 1\n",
    "                back_pointer.append((ii, jj))\n",
    "        if jj == len(Y) - 1 and ii < len(X) - 1:\n",
    "            while ii < len(X):\n",
    "                ii += 1\n",
    "                score += add_weight*scoring_func(X[ii], Y[jj])\n",
    "                path_length += 1\n",
    "                back_pointer.append((ii, jj))\n",
    "\n",
    "        if normalize_score:\n",
    "            score = score/path_length\n",
    "        return score, back_pointer"
   ]
  },
  {
   "cell_type": "code",
   "execution_count": null,
   "metadata": {
    "collapsed": true
   },
   "outputs": [],
   "source": [
    "if __name__==\"__main__\":\n",
    "    trellis = Trellis(lambda x, y: 0.0 if x == y else 1.0)\n",
    "\n",
    "    test_cases = [\n",
    "        ['TEST', 'TES'],\n",
    "        ['geek', 'gesek'],\n",
    "        ['ISLANDER', 'SLANDER'],\n",
    "        ['MART', 'KARMA']\n",
    "    ]\n",
    "\n",
    "    for case in test_cases:\n",
    "        print(case, trellis.match(case[0], case[1], normalize_score=True)[0])"
   ]
  },
  {
   "cell_type": "markdown",
   "metadata": {},
   "source": [
    "Exercise-2\n",
    "---\n",
    "\n",
    "Use the matching algorithm written above to correct spellings of words intput thru the keyboard.\n",
    "I.e. create your own spell checker! (albiet it being quite inefficient...)\n",
    "\n",
    "A list of english words has been given to you in `words.txt`"
   ]
  },
  {
   "cell_type": "code",
   "execution_count": 59,
   "metadata": {
    "collapsed": false
   },
   "outputs": [
    {
     "name": "stdout",
     "output_type": "stream",
     "text": [
      "Enter /quit to quit\n",
      "word>> waer\n",
      "closest match:  water\n",
      "word>> /quit\n",
      "Goodbye!\n"
     ]
    }
   ],
   "source": [
    "if __name__==\"__main__\":\n",
    "    dictionary = list(filter(None, open(\"words2.txt\",\"r\").read().split(\"\\n\")))\n",
    "\n",
    "    trellis = Trellis(lambda x, y: 0.0 if x == y else 1.0, delete_weight=4.0)\n",
    "    print(\"Enter /quit to quit\")\n",
    "    while True:\n",
    "        x = input(\"word>> \")\n",
    "        x = x.lower()\n",
    "        if x == \"/quit\":\n",
    "            print(\"Goodbye!\")\n",
    "            break\n",
    "        if x in dictionary:\n",
    "            print(\"word found\")\n",
    "            continue\n",
    "        min_sc = 1e9\n",
    "        match = x\n",
    "        for el in dictionary:\n",
    "            sc = trellis.match(el, x, normalize_score=False)[0]\n",
    "            if sc < min_sc:\n",
    "                min_sc = sc\n",
    "                match = el\n",
    "        print(\"closest match: \", match)"
   ]
  },
  {
   "cell_type": "code",
   "execution_count": null,
   "metadata": {
    "collapsed": true
   },
   "outputs": [],
   "source": []
  }
 ],
 "metadata": {
  "kernelspec": {
   "display_name": "Python 3",
   "language": "python",
   "name": "python3"
  },
  "language_info": {
   "codemirror_mode": {
    "name": "ipython",
    "version": 3
   },
   "file_extension": ".py",
   "mimetype": "text/x-python",
   "name": "python",
   "nbconvert_exporter": "python",
   "pygments_lexer": "ipython3",
   "version": "3.5.2"
  }
 },
 "nbformat": 4,
 "nbformat_minor": 1
}
