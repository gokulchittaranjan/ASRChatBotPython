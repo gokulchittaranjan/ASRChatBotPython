{
 "cells": [
  {
   "cell_type": "markdown",
   "metadata": {
    "deletable": true,
    "editable": true
   },
   "source": [
    "Exercise-1\n",
    "---\n",
    "\n",
    "Create a class Trellis that\n",
    "- takes in four arguments: `match_weight`, `delete_weight`, `add_weight`, and `scoring_func`.\n",
    "    - `scoring_func` is a function that computes the distance or score between two `values`.\n",
    "    - `match_weight`, `delete_weight`, `add_weight` are floats that weigh a diagonal, horizontal, and vertical transitions, respectively.\n",
    "- contains a method `match(X, Y)` where X and Y are arrays of `values`; the `values` can be characters, scalars, or even vectors that returns the minimum-edit-distance/matching-score between X and Y and the shortest path (as an array of 2-tuples)."
   ]
  },
  {
   "cell_type": "code",
   "execution_count": 81,
   "metadata": {
    "collapsed": false,
    "deletable": true,
    "editable": true
   },
   "outputs": [],
   "source": [
    "import numpy as np\n",
    "from copy import deepcopy\n",
    "\n",
    "class Trellis:\n",
    "    \n",
    "    def __init__(self, scoring_func, match_weight=1.0, delete_weight=1.0, add_weight=1.0):\n",
    "        self.scoring_func = scoring_func\n",
    "        self.match_weight = match_weight\n",
    "        self.delete_weight = delete_weight\n",
    "        self.add_weight = add_weight\n",
    "    \n",
    "    def match(self, X, Y, normalize_score=True):\n",
    "        scoring_func = self.scoring_func\n",
    "        match_weight, delete_weight, add_weight = self.match_weight, self.delete_weight, self.add_weight\n",
    "    \n",
    "        score_rows = np.zeros((2, len(X)+1))\n",
    "        path_counts = np.zeros((2, len(X)+1))\n",
    "        back_pointers = []\n",
    "        for ii in range(len(X)):\n",
    "            back_pointers.append([])\n",
    "        score_rows[0, 1:] = 1e9\n",
    "        score_rows[1:, 0] = 1e9\n",
    "        \n",
    "        \n",
    "        jj = 1\n",
    "        while jj < len(Y) + 1:\n",
    "            back_pointer_before_iteration = deepcopy(back_pointers)\n",
    "            for ii in range(1, len(X)+1):\n",
    "                diag_score = score_rows[0, ii-1] + match_weight\n",
    "                vert_score = score_rows[0, ii] + add_weight\n",
    "                horiz_score = score_rows[1, ii-1] + add_weight\n",
    "                min_score = min(diag_score, vert_score, horiz_score)\n",
    "                if min_score == diag_score:\n",
    "                    back_pointers[ii-1] = list(back_pointer_before_iteration[ii-2])\n",
    "                    back_pointers[ii-1].append( (jj-2, ii -2) )\n",
    "                    #print(\"DIAG\", ii-1, back_pointers)\n",
    "                elif min_score == vert_score:\n",
    "                    back_pointers[ii-1].append( (jj-2, ii-1) )\n",
    "                    #print(\"VERT\", ii-1, back_pointers)\n",
    "                else:\n",
    "                    back_pointers[ii-1] = list(back_pointers[ii-2])\n",
    "                    back_pointers[ii-1].append( (jj-1, ii-2) )\n",
    "                    #print(\"HORIZ\", ii-1, jj-1, back_pointers)\n",
    "                node_total = min_score + scoring_func(X[ii-1], Y[jj-1])\n",
    "                score_rows[1, ii] = node_total\n",
    "            score_rows[0, :] = score_rows[1, :]\n",
    "            score_rows[1, 1:] = 0\n",
    "            jj += 1\n",
    "            #print(back_pointers)\n",
    "        return score_rows[0, -1], back_pointers[-1]"
   ]
  },
  {
   "cell_type": "code",
   "execution_count": 82,
   "metadata": {
    "collapsed": false,
    "deletable": true,
    "editable": true
   },
   "outputs": [
    {
     "name": "stdout",
     "output_type": "stream",
     "text": [
      "['TEST', 'TES'] [(-1, -1), (0, 0), (1, 1), (2, 2)]\n",
      "['geek', 'gesek'] [(-1, -1), (0, 0), (1, 1), (2, 1), (3, 2)]\n",
      "['ISLANDER', 'SLANDER'] [(-1, -1), (0, 0), (0, 1), (1, 2), (2, 3), (3, 4), (4, 5), (5, 6)]\n",
      "['MART', 'KARMA'] [(-1, -1), (0, 0), (1, 1), (2, 2), (3, 2)]\n",
      "['TEST', 'TEST'] [(-1, -1), (0, 0), (1, 1), (2, 2)]\n"
     ]
    }
   ],
   "source": [
    "if __name__==\"__main__\":\n",
    "    trellis = Trellis(match_weight=0.0, scoring_func=lambda x, y: 0.0 if x == y else 1.0)\n",
    "\n",
    "    test_cases = [\n",
    "        ['TEST', 'TES'],\n",
    "        ['geek', 'gesek'],\n",
    "        ['ISLANDER', 'SLANDER'],\n",
    "        ['MART', 'KARMA'],\n",
    "        ['TEST', \"TEST\"]\n",
    "    ]\n",
    "\n",
    "    for case in test_cases:\n",
    "        print(case, trellis.match(case[0], case[1], normalize_score=True)[1])"
   ]
  },
  {
   "cell_type": "markdown",
   "metadata": {
    "deletable": true,
    "editable": true
   },
   "source": [
    "Exercise-2\n",
    "---\n",
    "\n",
    "Use the matching algorithm written above to correct spellings of words intput thru the keyboard.\n",
    "I.e. create your own spell checker! (albiet it being quite inefficient...)\n",
    "\n",
    "A list of english words has been given to you in `words.txt`"
   ]
  },
  {
   "cell_type": "code",
   "execution_count": 83,
   "metadata": {
    "collapsed": false,
    "deletable": true,
    "editable": true
   },
   "outputs": [
    {
     "name": "stdout",
     "output_type": "stream",
     "text": [
      "Enter /quit to quit\n",
      "word>> hi\n",
      "word found\n",
      "word>> /quit\n",
      "Goodbye!\n"
     ]
    }
   ],
   "source": [
    "if __name__==\"__main__\":\n",
    "    dictionary = list(filter(None, open(\"words2.txt\",\"r\").read().split(\"\\n\")))\n",
    "\n",
    "    trellis = Trellis(lambda x, y: 0.0 if x == y else 1.0, delete_weight=4.0)\n",
    "    print(\"Enter /quit to quit\")\n",
    "    while True:\n",
    "        x = input(\"word>> \")\n",
    "        x = x.lower()\n",
    "        if x == \"/quit\":\n",
    "            print(\"Goodbye!\")\n",
    "            break\n",
    "        if x in dictionary:\n",
    "            print(\"word found\")\n",
    "            continue\n",
    "        min_sc = 1e9\n",
    "        match = x\n",
    "        for el in dictionary:\n",
    "            sc = trellis.match(el, x, normalize_score=False)[0]\n",
    "            if sc < min_sc:\n",
    "                min_sc = sc\n",
    "                match = el\n",
    "        print(\"closest match: \", match)"
   ]
  },
  {
   "cell_type": "code",
   "execution_count": null,
   "metadata": {
    "collapsed": true,
    "deletable": true,
    "editable": true
   },
   "outputs": [],
   "source": []
  }
 ],
 "metadata": {
  "kernelspec": {
   "display_name": "Python 3",
   "language": "python",
   "name": "python3"
  },
  "language_info": {
   "codemirror_mode": {
    "name": "ipython",
    "version": 3
   },
   "file_extension": ".py",
   "mimetype": "text/x-python",
   "name": "python",
   "nbconvert_exporter": "python",
   "pygments_lexer": "ipython3",
   "version": "3.5.2"
  }
 },
 "nbformat": 4,
 "nbformat_minor": 1
}
